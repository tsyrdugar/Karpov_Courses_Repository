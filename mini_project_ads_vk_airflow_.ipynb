{
 "cells": [
  {
   "cell_type": "code",
   "execution_count": 1,
   "id": "compact-hammer",
   "metadata": {},
   "outputs": [],
   "source": [
    "import pandas as pd\n",
    "import vk_api\n",
    "import random\n",
    "import numpy as np"
   ]
  },
  {
   "cell_type": "code",
   "execution_count": 2,
   "id": "indie-reach",
   "metadata": {},
   "outputs": [],
   "source": [
    "ads = pd.read_csv('https://docs.google.com/spreadsheets/d/e/2PACX-1vR-ti6Su94955DZ4Tky8EbwifpgZf_dTjpBdiVH0Ukhsq94jZdqoHuUytZsFZKfwpXEUCKRFteJRc9P/pub?gid=889004448&single=true&output=csv')"
   ]
  },
  {
   "cell_type": "code",
   "execution_count": 3,
   "id": "excess-theorem",
   "metadata": {},
   "outputs": [
    {
     "data": {
      "text/html": [
       "<div>\n",
       "<style scoped>\n",
       "    .dataframe tbody tr th:only-of-type {\n",
       "        vertical-align: middle;\n",
       "    }\n",
       "\n",
       "    .dataframe tbody tr th {\n",
       "        vertical-align: top;\n",
       "    }\n",
       "\n",
       "    .dataframe thead th {\n",
       "        text-align: right;\n",
       "    }\n",
       "</style>\n",
       "<table border=\"1\" class=\"dataframe\">\n",
       "  <thead>\n",
       "    <tr style=\"text-align: right;\">\n",
       "      <th></th>\n",
       "      <th>date</th>\n",
       "      <th>time</th>\n",
       "      <th>event</th>\n",
       "      <th>platform</th>\n",
       "      <th>ad_id</th>\n",
       "      <th>ad_cost_type</th>\n",
       "      <th>ad_cost</th>\n",
       "    </tr>\n",
       "  </thead>\n",
       "  <tbody>\n",
       "    <tr>\n",
       "      <th>0</th>\n",
       "      <td>2019-04-01</td>\n",
       "      <td>2019-04-01 0:00:48</td>\n",
       "      <td>view</td>\n",
       "      <td>web</td>\n",
       "      <td>121288</td>\n",
       "      <td>CPM</td>\n",
       "      <td>187.4</td>\n",
       "    </tr>\n",
       "    <tr>\n",
       "      <th>1</th>\n",
       "      <td>2019-04-01</td>\n",
       "      <td>2019-04-01 0:04:41</td>\n",
       "      <td>view</td>\n",
       "      <td>ios</td>\n",
       "      <td>121288</td>\n",
       "      <td>CPM</td>\n",
       "      <td>187.4</td>\n",
       "    </tr>\n",
       "    <tr>\n",
       "      <th>2</th>\n",
       "      <td>2019-04-01</td>\n",
       "      <td>2019-04-01 0:07:50</td>\n",
       "      <td>view</td>\n",
       "      <td>android</td>\n",
       "      <td>121288</td>\n",
       "      <td>CPM</td>\n",
       "      <td>187.4</td>\n",
       "    </tr>\n",
       "    <tr>\n",
       "      <th>3</th>\n",
       "      <td>2019-04-01</td>\n",
       "      <td>2019-04-01 0:07:50</td>\n",
       "      <td>view</td>\n",
       "      <td>android</td>\n",
       "      <td>121288</td>\n",
       "      <td>CPM</td>\n",
       "      <td>187.4</td>\n",
       "    </tr>\n",
       "    <tr>\n",
       "      <th>4</th>\n",
       "      <td>2019-04-01</td>\n",
       "      <td>2019-04-01 0:08:46</td>\n",
       "      <td>view</td>\n",
       "      <td>ios</td>\n",
       "      <td>121288</td>\n",
       "      <td>CPM</td>\n",
       "      <td>187.4</td>\n",
       "    </tr>\n",
       "    <tr>\n",
       "      <th>...</th>\n",
       "      <td>...</td>\n",
       "      <td>...</td>\n",
       "      <td>...</td>\n",
       "      <td>...</td>\n",
       "      <td>...</td>\n",
       "      <td>...</td>\n",
       "      <td>...</td>\n",
       "    </tr>\n",
       "    <tr>\n",
       "      <th>602</th>\n",
       "      <td>2019-04-02</td>\n",
       "      <td>2019-04-01 22:39:16</td>\n",
       "      <td>click</td>\n",
       "      <td>android</td>\n",
       "      <td>121288</td>\n",
       "      <td>CPM</td>\n",
       "      <td>187.4</td>\n",
       "    </tr>\n",
       "    <tr>\n",
       "      <th>603</th>\n",
       "      <td>2019-04-02</td>\n",
       "      <td>2019-04-01 22:40:29</td>\n",
       "      <td>click</td>\n",
       "      <td>android</td>\n",
       "      <td>121288</td>\n",
       "      <td>CPM</td>\n",
       "      <td>187.4</td>\n",
       "    </tr>\n",
       "    <tr>\n",
       "      <th>604</th>\n",
       "      <td>2019-04-02</td>\n",
       "      <td>2019-04-01 22:40:31</td>\n",
       "      <td>click</td>\n",
       "      <td>web</td>\n",
       "      <td>121288</td>\n",
       "      <td>CPM</td>\n",
       "      <td>187.4</td>\n",
       "    </tr>\n",
       "    <tr>\n",
       "      <th>605</th>\n",
       "      <td>2019-04-02</td>\n",
       "      <td>2019-04-01 22:44:14</td>\n",
       "      <td>click</td>\n",
       "      <td>ios</td>\n",
       "      <td>121288</td>\n",
       "      <td>CPM</td>\n",
       "      <td>187.4</td>\n",
       "    </tr>\n",
       "    <tr>\n",
       "      <th>606</th>\n",
       "      <td>2019-04-02</td>\n",
       "      <td>2019-04-01 22:48:26</td>\n",
       "      <td>click</td>\n",
       "      <td>android</td>\n",
       "      <td>121288</td>\n",
       "      <td>CPM</td>\n",
       "      <td>187.4</td>\n",
       "    </tr>\n",
       "  </tbody>\n",
       "</table>\n",
       "<p>607 rows × 7 columns</p>\n",
       "</div>"
      ],
      "text/plain": [
       "           date                 time  event platform   ad_id ad_cost_type  \\\n",
       "0    2019-04-01   2019-04-01 0:00:48   view      web  121288          CPM   \n",
       "1    2019-04-01   2019-04-01 0:04:41   view      ios  121288          CPM   \n",
       "2    2019-04-01   2019-04-01 0:07:50   view  android  121288          CPM   \n",
       "3    2019-04-01   2019-04-01 0:07:50   view  android  121288          CPM   \n",
       "4    2019-04-01   2019-04-01 0:08:46   view      ios  121288          CPM   \n",
       "..          ...                  ...    ...      ...     ...          ...   \n",
       "602  2019-04-02  2019-04-01 22:39:16  click  android  121288          CPM   \n",
       "603  2019-04-02  2019-04-01 22:40:29  click  android  121288          CPM   \n",
       "604  2019-04-02  2019-04-01 22:40:31  click      web  121288          CPM   \n",
       "605  2019-04-02  2019-04-01 22:44:14  click      ios  121288          CPM   \n",
       "606  2019-04-02  2019-04-01 22:48:26  click  android  121288          CPM   \n",
       "\n",
       "     ad_cost  \n",
       "0      187.4  \n",
       "1      187.4  \n",
       "2      187.4  \n",
       "3      187.4  \n",
       "4      187.4  \n",
       "..       ...  \n",
       "602    187.4  \n",
       "603    187.4  \n",
       "604    187.4  \n",
       "605    187.4  \n",
       "606    187.4  \n",
       "\n",
       "[607 rows x 7 columns]"
      ]
     },
     "execution_count": 3,
     "metadata": {},
     "output_type": "execute_result"
    }
   ],
   "source": [
    "ads"
   ]
  },
  {
   "cell_type": "code",
   "execution_count": 4,
   "id": "developed-authentication",
   "metadata": {},
   "outputs": [],
   "source": [
    "# количество показов\n",
    "# количество кликов\n",
    "# CTR \n",
    "# сумма потраченных денег \n"
   ]
  },
  {
   "cell_type": "code",
   "execution_count": 5,
   "id": "tired-brass",
   "metadata": {},
   "outputs": [],
   "source": [
    "ads_views = ads[ads.event == 'view'].groupby(['date', 'ad_id']).count().reset_index()[['date', 'event']]\n",
    "ads_views.columns = ['date', 'views']\n",
    "ads_clicks = ads[ads.event == 'click'].groupby(['date', 'ad_id']).count().reset_index()[['date', 'event']]\n",
    "ads_clicks.columns = ['date', 'clicks']"
   ]
  },
  {
   "cell_type": "code",
   "execution_count": null,
   "id": "civic-circuit",
   "metadata": {},
   "outputs": [],
   "source": []
  },
  {
   "cell_type": "code",
   "execution_count": null,
   "id": "physical-canyon",
   "metadata": {},
   "outputs": [],
   "source": []
  },
  {
   "cell_type": "code",
   "execution_count": 6,
   "id": "cardiovascular-arizona",
   "metadata": {},
   "outputs": [
    {
     "data": {
      "text/html": [
       "<div>\n",
       "<style scoped>\n",
       "    .dataframe tbody tr th:only-of-type {\n",
       "        vertical-align: middle;\n",
       "    }\n",
       "\n",
       "    .dataframe tbody tr th {\n",
       "        vertical-align: top;\n",
       "    }\n",
       "\n",
       "    .dataframe thead th {\n",
       "        text-align: right;\n",
       "    }\n",
       "</style>\n",
       "<table border=\"1\" class=\"dataframe\">\n",
       "  <thead>\n",
       "    <tr style=\"text-align: right;\">\n",
       "      <th></th>\n",
       "      <th>date</th>\n",
       "      <th>views</th>\n",
       "    </tr>\n",
       "  </thead>\n",
       "  <tbody>\n",
       "    <tr>\n",
       "      <th>0</th>\n",
       "      <td>2019-04-01</td>\n",
       "      <td>491</td>\n",
       "    </tr>\n",
       "    <tr>\n",
       "      <th>1</th>\n",
       "      <td>2019-04-02</td>\n",
       "      <td>93</td>\n",
       "    </tr>\n",
       "  </tbody>\n",
       "</table>\n",
       "</div>"
      ],
      "text/plain": [
       "         date  views\n",
       "0  2019-04-01    491\n",
       "1  2019-04-02     93"
      ]
     },
     "execution_count": 6,
     "metadata": {},
     "output_type": "execute_result"
    }
   ],
   "source": [
    "ads_views"
   ]
  },
  {
   "cell_type": "code",
   "execution_count": 7,
   "id": "hispanic-turkey",
   "metadata": {},
   "outputs": [
    {
     "data": {
      "text/html": [
       "<div>\n",
       "<style scoped>\n",
       "    .dataframe tbody tr th:only-of-type {\n",
       "        vertical-align: middle;\n",
       "    }\n",
       "\n",
       "    .dataframe tbody tr th {\n",
       "        vertical-align: top;\n",
       "    }\n",
       "\n",
       "    .dataframe thead th {\n",
       "        text-align: right;\n",
       "    }\n",
       "</style>\n",
       "<table border=\"1\" class=\"dataframe\">\n",
       "  <thead>\n",
       "    <tr style=\"text-align: right;\">\n",
       "      <th></th>\n",
       "      <th>date</th>\n",
       "      <th>clicks</th>\n",
       "    </tr>\n",
       "  </thead>\n",
       "  <tbody>\n",
       "    <tr>\n",
       "      <th>0</th>\n",
       "      <td>2019-04-01</td>\n",
       "      <td>17</td>\n",
       "    </tr>\n",
       "    <tr>\n",
       "      <th>1</th>\n",
       "      <td>2019-04-02</td>\n",
       "      <td>6</td>\n",
       "    </tr>\n",
       "  </tbody>\n",
       "</table>\n",
       "</div>"
      ],
      "text/plain": [
       "         date  clicks\n",
       "0  2019-04-01      17\n",
       "1  2019-04-02       6"
      ]
     },
     "execution_count": 7,
     "metadata": {},
     "output_type": "execute_result"
    }
   ],
   "source": [
    "ads_clicks"
   ]
  },
  {
   "cell_type": "code",
   "execution_count": 8,
   "id": "verified-heath",
   "metadata": {},
   "outputs": [
    {
     "data": {
      "text/html": [
       "<div>\n",
       "<style scoped>\n",
       "    .dataframe tbody tr th:only-of-type {\n",
       "        vertical-align: middle;\n",
       "    }\n",
       "\n",
       "    .dataframe tbody tr th {\n",
       "        vertical-align: top;\n",
       "    }\n",
       "\n",
       "    .dataframe thead th {\n",
       "        text-align: right;\n",
       "    }\n",
       "</style>\n",
       "<table border=\"1\" class=\"dataframe\">\n",
       "  <thead>\n",
       "    <tr style=\"text-align: right;\">\n",
       "      <th></th>\n",
       "      <th>date</th>\n",
       "      <th>views</th>\n",
       "      <th>clicks</th>\n",
       "      <th>CTR</th>\n",
       "      <th>CTR_PERCENT</th>\n",
       "    </tr>\n",
       "  </thead>\n",
       "  <tbody>\n",
       "    <tr>\n",
       "      <th>0</th>\n",
       "      <td>2019-04-01</td>\n",
       "      <td>491</td>\n",
       "      <td>17</td>\n",
       "      <td>0.034623</td>\n",
       "      <td>3.462322</td>\n",
       "    </tr>\n",
       "    <tr>\n",
       "      <th>1</th>\n",
       "      <td>2019-04-02</td>\n",
       "      <td>93</td>\n",
       "      <td>6</td>\n",
       "      <td>0.064516</td>\n",
       "      <td>6.451613</td>\n",
       "    </tr>\n",
       "  </tbody>\n",
       "</table>\n",
       "</div>"
      ],
      "text/plain": [
       "         date  views  clicks       CTR  CTR_PERCENT\n",
       "0  2019-04-01    491      17  0.034623     3.462322\n",
       "1  2019-04-02     93       6  0.064516     6.451613"
      ]
     },
     "execution_count": 8,
     "metadata": {},
     "output_type": "execute_result"
    }
   ],
   "source": [
    "ads_ctr = ads_views.merge(ads_clicks, on='date')\n",
    "ads_ctr = ads_ctr.assign(CTR = ads_ctr.clicks/ads_ctr.views)\n",
    "ads_ctr.assign(CTR_PERCENT = 100 * ads_ctr.clicks/ads_ctr.views)"
   ]
  },
  {
   "cell_type": "code",
   "execution_count": null,
   "id": "hundred-pilot",
   "metadata": {},
   "outputs": [],
   "source": []
  },
  {
   "cell_type": "code",
   "execution_count": null,
   "id": "angry-fleece",
   "metadata": {},
   "outputs": [],
   "source": []
  },
  {
   "cell_type": "code",
   "execution_count": 9,
   "id": "municipal-birth",
   "metadata": {},
   "outputs": [],
   "source": [
    "ads['ad_action_cost'] = ads.ad_cost/1000\n",
    "ads_ctr['money'] = ads['ad_action_cost'].unique()[0] * ads_ctr['views']"
   ]
  },
  {
   "cell_type": "code",
   "execution_count": null,
   "id": "varied-queens",
   "metadata": {},
   "outputs": [],
   "source": []
  },
  {
   "cell_type": "code",
   "execution_count": 10,
   "id": "compound-product",
   "metadata": {},
   "outputs": [
    {
     "data": {
      "text/html": [
       "<div>\n",
       "<style scoped>\n",
       "    .dataframe tbody tr th:only-of-type {\n",
       "        vertical-align: middle;\n",
       "    }\n",
       "\n",
       "    .dataframe tbody tr th {\n",
       "        vertical-align: top;\n",
       "    }\n",
       "\n",
       "    .dataframe thead th {\n",
       "        text-align: right;\n",
       "    }\n",
       "</style>\n",
       "<table border=\"1\" class=\"dataframe\">\n",
       "  <thead>\n",
       "    <tr style=\"text-align: right;\">\n",
       "      <th></th>\n",
       "      <th>date</th>\n",
       "      <th>views</th>\n",
       "      <th>clicks</th>\n",
       "      <th>CTR</th>\n",
       "      <th>money</th>\n",
       "    </tr>\n",
       "  </thead>\n",
       "  <tbody>\n",
       "    <tr>\n",
       "      <th>0</th>\n",
       "      <td>2019-04-01</td>\n",
       "      <td>491</td>\n",
       "      <td>17</td>\n",
       "      <td>0.034623</td>\n",
       "      <td>92.0134</td>\n",
       "    </tr>\n",
       "    <tr>\n",
       "      <th>1</th>\n",
       "      <td>2019-04-02</td>\n",
       "      <td>93</td>\n",
       "      <td>6</td>\n",
       "      <td>0.064516</td>\n",
       "      <td>17.4282</td>\n",
       "    </tr>\n",
       "  </tbody>\n",
       "</table>\n",
       "</div>"
      ],
      "text/plain": [
       "         date  views  clicks       CTR    money\n",
       "0  2019-04-01    491      17  0.034623  92.0134\n",
       "1  2019-04-02     93       6  0.064516  17.4282"
      ]
     },
     "execution_count": 10,
     "metadata": {},
     "output_type": "execute_result"
    }
   ],
   "source": [
    "ads_ctr"
   ]
  },
  {
   "cell_type": "code",
   "execution_count": 11,
   "id": "several-collar",
   "metadata": {},
   "outputs": [],
   "source": [
    "# Отчет по объявлению 121288 за 2 апреля\n",
    "# Траты: Х рублей (Y%)\n",
    "# Показы: X (Y%)\n",
    "# Клики: X (-Y%)\n",
    "# CTR: X (-Y%)"
   ]
  },
  {
   "cell_type": "code",
   "execution_count": 12,
   "id": "every-potter",
   "metadata": {},
   "outputs": [],
   "source": [
    "money_2_04 = float(ads_ctr[ads_ctr.date == '2019-04-02']['money'])\n",
    "view_2_04 = float(ads_ctr[ads_ctr.date == '2019-04-02']['views'])\n",
    "clicks_2_04 = float(ads_ctr[ads_ctr.date == '2019-04-02']['clicks'])\n",
    "ctr_2_04 = float(ads_ctr[ads_ctr.date == '2019-04-02']['CTR'])"
   ]
  },
  {
   "cell_type": "code",
   "execution_count": 13,
   "id": "numeric-greensboro",
   "metadata": {},
   "outputs": [],
   "source": [
    "money_1_04 = float(ads_ctr[ads_ctr.date == '2019-04-01']['money'])\n",
    "view_1_04 = float(ads_ctr[ads_ctr.date == '2019-04-01']['views'])\n",
    "clicks_1_04 = float(ads_ctr[ads_ctr.date == '2019-04-01']['clicks'])\n",
    "ctr_1_04 = float(ads_ctr[ads_ctr.date == '2019-04-01']['CTR'])"
   ]
  },
  {
   "cell_type": "code",
   "execution_count": 23,
   "id": "brown-station",
   "metadata": {},
   "outputs": [],
   "source": [
    "diff_money = round((money_2_04 - money_1_04)/money_1_04 * 100, 0)\n",
    "diff_views = round((view_2_04 - view_1_04)/ view_1_04 * 100, 0)\n",
    "diff_clicks = round((clicks_2_04 - clicks_1_04)/ clicks_1_04 * 100, 0)\n",
    "diff_ctr = round((ctr_2_04 - ctr_1_04)/ctr_1_04*100, 0)"
   ]
  },
  {
   "cell_type": "code",
   "execution_count": 24,
   "id": "tough-produce",
   "metadata": {},
   "outputs": [],
   "source": [
    "message_vk = f'''Отчет по объявлению 121288 за 2 апреля\\n\n",
    "# Траты: {money_2_04} рублей ({diff_money}%)\n",
    "# Показы: {view_2_04} ({diff_views}%)\n",
    "# Клики: {clicks_2_04} ({diff_clicks}%)\n",
    "# CTR: {ctr_2_04} ({diff_ctr})%\n",
    "'''"
   ]
  },
  {
   "cell_type": "code",
   "execution_count": 26,
   "id": "tropical-uruguay",
   "metadata": {},
   "outputs": [
    {
     "data": {
      "text/plain": [
       "'Отчет по объявлению 121288 за 2 апреля\\n\\n# Траты: 17.4282 рублей (-81.0%)\\n# Показы: 93.0 (-81.0%)\\n# Клики: 6.0 (-65.0%)\\n# CTR: 0.06451612903225806 (86.0)%\\n'"
      ]
     },
     "execution_count": 26,
     "metadata": {},
     "output_type": "execute_result"
    }
   ],
   "source": [
    "message_vk"
   ]
  },
  {
   "cell_type": "code",
   "execution_count": 16,
   "id": "rural-lightweight",
   "metadata": {},
   "outputs": [],
   "source": [
    "with open(f'report_2_04.txt', 'w') as file:\n",
    "    file.write(message_vk)"
   ]
  },
  {
   "cell_type": "code",
   "execution_count": 17,
   "id": "solar-principle",
   "metadata": {},
   "outputs": [
    {
     "data": {
      "text/plain": [
       "0"
      ]
     },
     "execution_count": 17,
     "metadata": {},
     "output_type": "execute_result"
    }
   ],
   "source": [
    "app_token = '4e5a1c298f4c98468654d34b48cdcc03647593500f78a9529e463582e0c71f7f0acd03725b18aa2977267'\n",
    "chat_id = 1\n",
    "my_id = 533514830\n",
    "\n",
    "vk_session = vk_api.VkApi(token=app_token)\n",
    "vk = vk_session.get_api()\n",
    "\n",
    "vk.messages.send(\n",
    "    chat_id=chat_id,\n",
    "    random_id=random.randint(1, 2 ** 31),\n",
    "    message=message_vk)\n",
    "\n"
   ]
  },
  {
   "cell_type": "code",
   "execution_count": 18,
   "id": "level-tender",
   "metadata": {},
   "outputs": [
    {
     "data": {
      "text/plain": [
       "event\n",
       "view     584\n",
       "click     23\n",
       "dtype: int64"
      ]
     },
     "execution_count": 18,
     "metadata": {},
     "output_type": "execute_result"
    }
   ],
   "source": [
    "ads.value_counts('event')"
   ]
  }
 ],
 "metadata": {
  "kernelspec": {
   "display_name": "Python 3",
   "language": "python",
   "name": "python3"
  },
  "language_info": {
   "codemirror_mode": {
    "name": "ipython",
    "version": 3
   },
   "file_extension": ".py",
   "mimetype": "text/x-python",
   "name": "python",
   "nbconvert_exporter": "python",
   "pygments_lexer": "ipython3",
   "version": "3.9.2"
  }
 },
 "nbformat": 4,
 "nbformat_minor": 5
}
