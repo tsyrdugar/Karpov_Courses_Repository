{
 "cells": [
  {
   "cell_type": "code",
   "execution_count": 3,
   "id": "reduced-balance",
   "metadata": {},
   "outputs": [],
   "source": [
    "import pandas as pd\n",
    "import seaborn as sns\n",
    "sns.set(style='whitegrid', rc = {'figure.figsize': (20, 8 )})\n",
    "\n"
   ]
  },
  {
   "cell_type": "code",
   "execution_count": 4,
   "id": "compatible-culture",
   "metadata": {},
   "outputs": [],
   "source": [
    "df = pd.read_csv('https://stepik.org/media/attachments/lesson/432724/HH_data.csv', sep=';')"
   ]
  },
  {
   "cell_type": "code",
   "execution_count": 5,
   "id": "hispanic-lewis",
   "metadata": {},
   "outputs": [
    {
     "data": {
      "text/plain": [
       "Index(['archived', 'area_name', 'direction', 'employer_name', 'level', 'name',\n",
       "       'published_at', 'query_string', 'salary_currency', 'type', 'url',\n",
       "       'vacancy_id', 'address_lat', 'address_lng', 'employer_id',\n",
       "       'salary, net', 'salary_from', 'salary_gross', 'salary_to'],\n",
       "      dtype='object')"
      ]
     },
     "execution_count": 5,
     "metadata": {},
     "output_type": "execute_result"
    }
   ],
   "source": [
    "df.columns"
   ]
  },
  {
   "cell_type": "code",
   "execution_count": 6,
   "id": "operating-planning",
   "metadata": {},
   "outputs": [
    {
     "data": {
      "text/plain": [
       "archived               0\n",
       "area_name              0\n",
       "direction              0\n",
       "employer_name          0\n",
       "level                  0\n",
       "name                   0\n",
       "published_at           0\n",
       "query_string           0\n",
       "salary_currency    20034\n",
       "type                   0\n",
       "url                    0\n",
       "vacancy_id             0\n",
       "address_lat        13160\n",
       "address_lng        13160\n",
       "employer_id            0\n",
       "salary, net        19728\n",
       "salary_from        20474\n",
       "salary_gross       19728\n",
       "salary_to          21668\n",
       "dtype: int64"
      ]
     },
     "execution_count": 6,
     "metadata": {},
     "output_type": "execute_result"
    }
   ],
   "source": [
    "df.isna().sum()"
   ]
  },
  {
   "cell_type": "code",
   "execution_count": 7,
   "id": "weekly-design",
   "metadata": {},
   "outputs": [],
   "source": [
    "df = df.rename(columns= {'salary, net' : 'salary_net'})"
   ]
  },
  {
   "cell_type": "code",
   "execution_count": 8,
   "id": "veterinary-irish",
   "metadata": {},
   "outputs": [
    {
     "data": {
      "text/html": [
       "<div>\n",
       "<style scoped>\n",
       "    .dataframe tbody tr th:only-of-type {\n",
       "        vertical-align: middle;\n",
       "    }\n",
       "\n",
       "    .dataframe tbody tr th {\n",
       "        vertical-align: top;\n",
       "    }\n",
       "\n",
       "    .dataframe thead th {\n",
       "        text-align: right;\n",
       "    }\n",
       "</style>\n",
       "<table border=\"1\" class=\"dataframe\">\n",
       "  <thead>\n",
       "    <tr style=\"text-align: right;\">\n",
       "      <th></th>\n",
       "      <th>archived</th>\n",
       "      <th>area_name</th>\n",
       "      <th>direction</th>\n",
       "      <th>employer_name</th>\n",
       "      <th>level</th>\n",
       "      <th>name</th>\n",
       "      <th>published_at</th>\n",
       "      <th>query_string</th>\n",
       "      <th>salary_currency</th>\n",
       "      <th>type</th>\n",
       "      <th>url</th>\n",
       "      <th>vacancy_id</th>\n",
       "      <th>address_lat</th>\n",
       "      <th>address_lng</th>\n",
       "      <th>employer_id</th>\n",
       "      <th>salary_net</th>\n",
       "      <th>salary_from</th>\n",
       "      <th>salary_gross</th>\n",
       "      <th>salary_to</th>\n",
       "    </tr>\n",
       "  </thead>\n",
       "  <tbody>\n",
       "    <tr>\n",
       "      <th>0</th>\n",
       "      <td>В архиве</td>\n",
       "      <td>Москва</td>\n",
       "      <td>Analytics</td>\n",
       "      <td>GfK Rus</td>\n",
       "      <td>—</td>\n",
       "      <td>Аналитик отдела методологии</td>\n",
       "      <td>01.07.2020 18:01:54</td>\n",
       "      <td>\"Python\" AND \"data\" AND \"анализ\"</td>\n",
       "      <td>NaN</td>\n",
       "      <td>Навык</td>\n",
       "      <td>https://api.hh.ru/vacancies/24312953?host=hh.ru</td>\n",
       "      <td>24312953</td>\n",
       "      <td>NaN</td>\n",
       "      <td>NaN</td>\n",
       "      <td>1825</td>\n",
       "      <td>NaN</td>\n",
       "      <td>NaN</td>\n",
       "      <td>NaN</td>\n",
       "      <td>NaN</td>\n",
       "    </tr>\n",
       "    <tr>\n",
       "      <th>1</th>\n",
       "      <td>В архиве</td>\n",
       "      <td>Москва</td>\n",
       "      <td>BI</td>\n",
       "      <td>РОСБАНК, Societe Generale Group (Russia)</td>\n",
       "      <td>—</td>\n",
       "      <td>IT auditor</td>\n",
       "      <td>03.07.2020 8:56:27</td>\n",
       "      <td>\"Визуализация данных\" OR \"Data visualization\"</td>\n",
       "      <td>NaN</td>\n",
       "      <td>Навык</td>\n",
       "      <td>https://api.hh.ru/vacancies/28099593?host=hh.ru</td>\n",
       "      <td>28099593</td>\n",
       "      <td>55,772168</td>\n",
       "      <td>37,648456</td>\n",
       "      <td>599</td>\n",
       "      <td>NaN</td>\n",
       "      <td>NaN</td>\n",
       "      <td>NaN</td>\n",
       "      <td>NaN</td>\n",
       "    </tr>\n",
       "    <tr>\n",
       "      <th>2</th>\n",
       "      <td>В архиве</td>\n",
       "      <td>Владивосток</td>\n",
       "      <td>Analytics</td>\n",
       "      <td>Сеть магазинов цифровой и бытовой техники DNS</td>\n",
       "      <td>Линейный специалист</td>\n",
       "      <td>Менеджер ИТ-проектов</td>\n",
       "      <td>17.07.2020 12:16:01</td>\n",
       "      <td>\"Бизнес аналитик\" OR \"Business Analyst\"</td>\n",
       "      <td>RUR</td>\n",
       "      <td>Профессия</td>\n",
       "      <td>https://api.hh.ru/vacancies/28407762?host=hh.ru</td>\n",
       "      <td>28407762</td>\n",
       "      <td>43,180305</td>\n",
       "      <td>131,916845</td>\n",
       "      <td>1025275</td>\n",
       "      <td>55000</td>\n",
       "      <td>40000.0</td>\n",
       "      <td>0.0</td>\n",
       "      <td>70000.0</td>\n",
       "    </tr>\n",
       "    <tr>\n",
       "      <th>3</th>\n",
       "      <td>В архиве</td>\n",
       "      <td>Краснодар</td>\n",
       "      <td>Data Engineering</td>\n",
       "      <td>МАГНИТ, Розничная сеть</td>\n",
       "      <td>—</td>\n",
       "      <td>Тестировщик ПО</td>\n",
       "      <td>29.06.2020 13:21:21</td>\n",
       "      <td>\"Etl\"</td>\n",
       "      <td>NaN</td>\n",
       "      <td>Навык</td>\n",
       "      <td>https://api.hh.ru/vacancies/28711707?host=hh.ru</td>\n",
       "      <td>28711707</td>\n",
       "      <td>0</td>\n",
       "      <td>0</td>\n",
       "      <td>49357</td>\n",
       "      <td>NaN</td>\n",
       "      <td>NaN</td>\n",
       "      <td>NaN</td>\n",
       "      <td>NaN</td>\n",
       "    </tr>\n",
       "    <tr>\n",
       "      <th>4</th>\n",
       "      <td>В архиве</td>\n",
       "      <td>Новосибирск</td>\n",
       "      <td>Data Engineering</td>\n",
       "      <td>R-Style Softlab (Эр-Стайл Софтлаб)</td>\n",
       "      <td>—</td>\n",
       "      <td>Ведущий разработчик DWH Департамента аналитиче...</td>\n",
       "      <td>24.07.2020 21:30:57</td>\n",
       "      <td>\"Etl\"</td>\n",
       "      <td>NaN</td>\n",
       "      <td>Навык</td>\n",
       "      <td>https://api.hh.ru/vacancies/28813213?host=hh.ru</td>\n",
       "      <td>28813213</td>\n",
       "      <td>55,016265</td>\n",
       "      <td>82,920007</td>\n",
       "      <td>2419</td>\n",
       "      <td>NaN</td>\n",
       "      <td>NaN</td>\n",
       "      <td>NaN</td>\n",
       "      <td>NaN</td>\n",
       "    </tr>\n",
       "  </tbody>\n",
       "</table>\n",
       "</div>"
      ],
      "text/plain": [
       "   archived    area_name         direction  \\\n",
       "0  В архиве       Москва         Analytics   \n",
       "1  В архиве       Москва                BI   \n",
       "2  В архиве  Владивосток         Analytics   \n",
       "3  В архиве    Краснодар  Data Engineering   \n",
       "4  В архиве  Новосибирск  Data Engineering   \n",
       "\n",
       "                                   employer_name                level  \\\n",
       "0                                        GfK Rus                    —   \n",
       "1       РОСБАНК, Societe Generale Group (Russia)                    —   \n",
       "2  Сеть магазинов цифровой и бытовой техники DNS  Линейный специалист   \n",
       "3                         МАГНИТ, Розничная сеть                    —   \n",
       "4             R-Style Softlab (Эр-Стайл Софтлаб)                    —   \n",
       "\n",
       "                                                name         published_at  \\\n",
       "0                        Аналитик отдела методологии  01.07.2020 18:01:54   \n",
       "1                                         IT auditor   03.07.2020 8:56:27   \n",
       "2                               Менеджер ИТ-проектов  17.07.2020 12:16:01   \n",
       "3                                     Тестировщик ПО  29.06.2020 13:21:21   \n",
       "4  Ведущий разработчик DWH Департамента аналитиче...  24.07.2020 21:30:57   \n",
       "\n",
       "                                    query_string salary_currency       type  \\\n",
       "0               \"Python\" AND \"data\" AND \"анализ\"             NaN      Навык   \n",
       "1  \"Визуализация данных\" OR \"Data visualization\"             NaN      Навык   \n",
       "2        \"Бизнес аналитик\" OR \"Business Analyst\"             RUR  Профессия   \n",
       "3                                          \"Etl\"             NaN      Навык   \n",
       "4                                          \"Etl\"             NaN      Навык   \n",
       "\n",
       "                                               url  vacancy_id address_lat  \\\n",
       "0  https://api.hh.ru/vacancies/24312953?host=hh.ru    24312953         NaN   \n",
       "1  https://api.hh.ru/vacancies/28099593?host=hh.ru    28099593   55,772168   \n",
       "2  https://api.hh.ru/vacancies/28407762?host=hh.ru    28407762   43,180305   \n",
       "3  https://api.hh.ru/vacancies/28711707?host=hh.ru    28711707           0   \n",
       "4  https://api.hh.ru/vacancies/28813213?host=hh.ru    28813213   55,016265   \n",
       "\n",
       "  address_lng  employer_id salary_net  salary_from  salary_gross  salary_to  \n",
       "0         NaN         1825        NaN          NaN           NaN        NaN  \n",
       "1   37,648456          599        NaN          NaN           NaN        NaN  \n",
       "2  131,916845      1025275      55000      40000.0           0.0    70000.0  \n",
       "3           0        49357        NaN          NaN           NaN        NaN  \n",
       "4   82,920007         2419        NaN          NaN           NaN        NaN  "
      ]
     },
     "execution_count": 8,
     "metadata": {},
     "output_type": "execute_result"
    }
   ],
   "source": [
    "df.head()"
   ]
  },
  {
   "cell_type": "code",
   "execution_count": 9,
   "id": "covered-september",
   "metadata": {},
   "outputs": [
    {
     "data": {
      "text/plain": [
       "array(['\"Python\" AND \"data\" AND \"анализ\"',\n",
       "       '\"Визуализация данных\" OR \"Data visualization\"',\n",
       "       '\"Бизнес аналитик\" OR \"Business Analyst\"', '\"Etl\"',\n",
       "       '\"Аналитик данных\" OR \"Data analyst\"',\n",
       "       '\"Продуктовый аналитик\" OR \"Product Analyst\"',\n",
       "       '\"Инженер баз данных\" OR \"DWH Engineer\" OR \"Инженер данных\" OR \"Data Engineer\"',\n",
       "       '\"Tableau\"', '\"Spark\"', '\"Дашборд\"', '\"Аналитик баз данных\"',\n",
       "       '\"Power BI\"', '\"Разработчик BI\" OR \"BI Developer\"',\n",
       "       '\"Data scientist\" OR \"Machine Learning specialist\"', '\"Cognos\"',\n",
       "       '\"Qlik\" OR \"Qlikview\" OR \"Qliksense\"',\n",
       "       '\"Руководитель data science\"', '\"Аналитик BI\" OR \"BI Analyst\"',\n",
       "       '\"Pandas\"', '\"Plotly\"', '\"Matplotlib\"', '\"Redash\"',\n",
       "       '\"Руководитель направления предиктивной аналитики\"',\n",
       "       '\"Marketing Analyst\" OR \"Маркетинговый аналитик\"',\n",
       "       '\"Младший аналитик\" OR \"Junior Data Analyst\"', '\"NumPy\"',\n",
       "       '\"Airflow\"', '\"d3.js\"',\n",
       "       '\"Руководитель отдела аналитики\" OR \"Head of analytics\" OR \"Head of BI\"',\n",
       "       '\"Metabase\"', '\"Superset\"', '\"Luigi\"',\n",
       "       '\"Data Science Director\" OR \"Директор по большим данным\" OR \"Директор по машинному обучению\" OR \"Директор продвинутой аналитики\" OR \"Директор предиктивной аналитики\" OR \"Chief Data Officer\"'],\n",
       "      dtype=object)"
      ]
     },
     "execution_count": 9,
     "metadata": {},
     "output_type": "execute_result"
    }
   ],
   "source": [
    "df.query_string.unique()"
   ]
  },
  {
   "cell_type": "code",
   "execution_count": 10,
   "id": "comparable-venice",
   "metadata": {},
   "outputs": [],
   "source": [
    "df.salary_net = df.salary_net.str.replace(',', '.')"
   ]
  },
  {
   "cell_type": "code",
   "execution_count": 11,
   "id": "intense-increase",
   "metadata": {},
   "outputs": [
    {
     "data": {
      "text/plain": [
       "630      180000\n",
       "896       49764\n",
       "6575      40000\n",
       "6707      50000\n",
       "6708      50000\n",
       "          ...  \n",
       "13315     85000\n",
       "13316    162500\n",
       "13317    162500\n",
       "13318    162500\n",
       "13319    162500\n",
       "Name: salary_net, Length: 115, dtype: object"
      ]
     },
     "execution_count": 11,
     "metadata": {},
     "output_type": "execute_result"
    }
   ],
   "source": [
    "df[df.query_string == '\"Tableau\"'].salary_net.dropna()"
   ]
  },
  {
   "cell_type": "code",
   "execution_count": 12,
   "id": "accessory-citation",
   "metadata": {},
   "outputs": [
    {
     "name": "stderr",
     "output_type": "stream",
     "text": [
      "/Library/Frameworks/Python.framework/Versions/3.9/lib/python3.9/site-packages/seaborn/distributions.py:2557: FutureWarning: `distplot` is a deprecated function and will be removed in a future version. Please adapt your code to use either `displot` (a figure-level function with similar flexibility) or `histplot` (an axes-level function for histograms).\n",
      "  warnings.warn(msg, FutureWarning)\n"
     ]
    },
    {
     "data": {
      "image/png": "[encoded data removed]",
      "text/plain": [
       "<Figure size 1440x576 with 1 Axes>"
      ]
     },
     "metadata": {},
     "output_type": "display_data"
    }
   ],
   "source": [
    "sns.distplot(df[df.query_string == '\"Tableau\"'].salary_net.dropna(), kde=False);"
   ]
  },
  {
   "cell_type": "code",
   "execution_count": 13,
   "id": "accessible-while",
   "metadata": {},
   "outputs": [
    {
     "data": {
      "image/png": "[encoded data removed]",
      "text/plain": [
       "<Figure size 1440x576 with 1 Axes>"
      ]
     },
     "metadata": {},
     "output_type": "display_data"
    }
   ],
   "source": [
    "sns.distplot(df[df.query_string == '\"Power BI\"'].salary_net.dropna(), kde=False);"
   ]
  },
  {
   "cell_type": "code",
   "execution_count": 14,
   "id": "miniature-keyboard",
   "metadata": {},
   "outputs": [],
   "source": [
    "df.published_at = pd.to_datetime(df.published_at)"
   ]
  },
  {
   "cell_type": "code",
   "execution_count": 15,
   "id": "floating-canvas",
   "metadata": {},
   "outputs": [
    {
     "data": {
      "text/plain": [
       "dtype('<M8[ns]')"
      ]
     },
     "execution_count": 15,
     "metadata": {},
     "output_type": "execute_result"
    }
   ],
   "source": [
    "df.published_at.dtypes"
   ]
  },
  {
   "cell_type": "code",
   "execution_count": 16,
   "id": "exceptional-turkish",
   "metadata": {},
   "outputs": [
    {
     "data": {
      "text/plain": [
       "<AxesSubplot:xlabel='published_at'>"
      ]
     },
     "execution_count": 16,
     "metadata": {},
     "output_type": "execute_result"
    },
    {
     "data": {
      "image/png": "[encoded data removed]",
      "text/plain": [
       "<Figure size 1440x576 with 1 Axes>"
      ]
     },
     "metadata": {},
     "output_type": "display_data"
    }
   ],
   "source": [
    "df.set_index('published_at').resample('M').agg({'vacancy_id':'count'}).plot()"
   ]
  },
  {
   "cell_type": "code",
   "execution_count": 17,
   "id": "russian-scanner",
   "metadata": {},
   "outputs": [
    {
     "data": {
      "text/plain": [
       "0       2020-01-07 18:01:54\n",
       "1       2020-03-07 08:56:27\n",
       "2       2020-07-17 12:16:01\n",
       "3       2020-06-29 13:21:21\n",
       "4       2020-07-24 21:30:57\n",
       "                ...        \n",
       "24575   2020-08-09 13:32:57\n",
       "24576   2020-07-22 13:19:14\n",
       "24577   2020-11-08 11:45:18\n",
       "24578   2020-09-18 19:04:03\n",
       "24579   2020-09-18 21:20:39\n",
       "Name: published_at, Length: 24580, dtype: datetime64[ns]"
      ]
     },
     "execution_count": 17,
     "metadata": {},
     "output_type": "execute_result"
    }
   ],
   "source": [
    "df.published_at"
   ]
  },
  {
   "cell_type": "code",
   "execution_count": 18,
   "id": "contrary-quilt",
   "metadata": {},
   "outputs": [
    {
     "data": {
      "text/plain": [
       "published_at\n",
       "2020-01-31     820\n",
       "2020-02-29     859\n",
       "2020-03-31     884\n",
       "2020-04-30     521\n",
       "2020-05-31     281\n",
       "2020-06-30    2554\n",
       "2020-07-31    3988\n",
       "2020-08-31    3765\n",
       "2020-09-30    9006\n",
       "2020-10-31     821\n",
       "2020-11-30     769\n",
       "2020-12-31     312\n",
       "Freq: M, Name: vacancy_id, dtype: int64"
      ]
     },
     "execution_count": 18,
     "metadata": {},
     "output_type": "execute_result"
    }
   ],
   "source": [
    "df.set_index('published_at').resample('M').vacancy_id.count()"
   ]
  },
  {
   "cell_type": "code",
   "execution_count": 19,
   "id": "charitable-rates",
   "metadata": {},
   "outputs": [
    {
     "data": {
      "text/plain": [
       "10307"
      ]
     },
     "execution_count": 19,
     "metadata": {},
     "output_type": "execute_result"
    }
   ],
   "source": [
    "2554 + 3988 + 3765"
   ]
  },
  {
   "cell_type": "code",
   "execution_count": 20,
   "id": "necessary-interpretation",
   "metadata": {},
   "outputs": [
    {
     "data": {
      "text/plain": [
       "10596"
      ]
     },
     "execution_count": 20,
     "metadata": {},
     "output_type": "execute_result"
    }
   ],
   "source": [
    "9006 + 821 + 769"
   ]
  },
  {
   "cell_type": "code",
   "execution_count": 21,
   "id": "equipped-knowing",
   "metadata": {},
   "outputs": [
    {
     "ename": "SyntaxError",
     "evalue": "invalid syntax (<ipython-input-21-0df4cfbc1167>, line 1)",
     "output_type": "error",
     "traceback": [
      "\u001b[0;36m  File \u001b[0;32m\"<ipython-input-21-0df4cfbc1167>\"\u001b[0;36m, line \u001b[0;32m1\u001b[0m\n\u001b[0;31m    --------------------------------\u001b[0m\n\u001b[0m                                    ^\u001b[0m\n\u001b[0;31mSyntaxError\u001b[0m\u001b[0;31m:\u001b[0m invalid syntax\n"
     ]
    }
   ],
   "source": [
    "--------------------------------"
   ]
  },
  {
   "cell_type": "code",
   "execution_count": null,
   "id": "champion-manufacturer",
   "metadata": {},
   "outputs": [],
   "source": [
    "df.set_index('published_at').resample('D').vacancy_id.count()"
   ]
  },
  {
   "cell_type": "code",
   "execution_count": null,
   "id": "honey-bowling",
   "metadata": {},
   "outputs": [],
   "source": [
    "df.set_index('published_at').resample('D').agg({'vacancy_id':'count'}).plot()"
   ]
  },
  {
   "cell_type": "code",
   "execution_count": null,
   "id": "expired-copyright",
   "metadata": {},
   "outputs": [],
   "source": [
    "df.query('published_at > \"2020-01-07\" &  published_at < \"2020-01-15\"').vacancy_id.count()"
   ]
  },
  {
   "cell_type": "code",
   "execution_count": null,
   "id": "urban-southwest",
   "metadata": {},
   "outputs": [],
   "source": [
    "df['week_of_day'] = df.published_at.dt.dayofweek"
   ]
  },
  {
   "cell_type": "code",
   "execution_count": null,
   "id": "heavy-floating",
   "metadata": {},
   "outputs": [],
   "source": [
    "df.drop(columns=['week', 'weel'])"
   ]
  },
  {
   "cell_type": "code",
   "execution_count": null,
   "id": "green-creature",
   "metadata": {},
   "outputs": [],
   "source": [
    "df.groupby('week_of_day').agg({'vacancy_id' : 'count'}).plot()"
   ]
  },
  {
   "cell_type": "code",
   "execution_count": null,
   "id": "bizarre-glucose",
   "metadata": {},
   "outputs": [],
   "source": [
    "df.groupby('type').vacancy_id.count()"
   ]
  }
 ],
 "metadata": {
  "kernelspec": {
   "display_name": "Python 3",
   "language": "python",
   "name": "python3"
  },
  "language_info": {
   "codemirror_mode": {
    "name": "ipython",
    "version": 3
   },
   "file_extension": ".py",
   "mimetype": "text/x-python",
   "name": "python",
   "nbconvert_exporter": "python",
   "pygments_lexer": "ipython3",
   "version": "3.9.2"
  }
 },
 "nbformat": 4,
 "nbformat_minor": 5
}
