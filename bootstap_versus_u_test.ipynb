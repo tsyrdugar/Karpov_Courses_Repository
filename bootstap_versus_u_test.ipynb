{
 "cells": [
  {
   "cell_type": "code",
   "execution_count": 1,
   "id": "novel-clark",
   "metadata": {},
   "outputs": [],
   "source": [
    "import pandas as pd\n",
    "from scipy import stats\n",
    "import matplotlib.pyplot as plt\n",
    "import numpy as np\n",
    "from tqdm import tqdm "
   ]
  },
  {
   "cell_type": "code",
   "execution_count": 2,
   "id": "greenhouse-filling",
   "metadata": {},
   "outputs": [],
   "source": [
    "df = pd.read_csv('https://stepik.org/media/attachments/lesson/396008/hw_bootstrap.csv', sep=';', index_col = 'Unnamed: 0')"
   ]
  },
  {
   "cell_type": "code",
   "execution_count": 4,
   "id": "liberal-charm",
   "metadata": {},
   "outputs": [
    {
     "data": {
      "text/html": [
       "<div>\n",
       "<style scoped>\n",
       "    .dataframe tbody tr th:only-of-type {\n",
       "        vertical-align: middle;\n",
       "    }\n",
       "\n",
       "    .dataframe tbody tr th {\n",
       "        vertical-align: top;\n",
       "    }\n",
       "\n",
       "    .dataframe thead th {\n",
       "        text-align: right;\n",
       "    }\n",
       "</style>\n",
       "<table border=\"1\" class=\"dataframe\">\n",
       "  <thead>\n",
       "    <tr style=\"text-align: right;\">\n",
       "      <th></th>\n",
       "      <th>value</th>\n",
       "      <th>experimentVariant</th>\n",
       "    </tr>\n",
       "  </thead>\n",
       "  <tbody>\n",
       "    <tr>\n",
       "      <th>1</th>\n",
       "      <td>10,3804953740268</td>\n",
       "      <td>Control</td>\n",
       "    </tr>\n",
       "    <tr>\n",
       "      <th>2</th>\n",
       "      <td>9,54686666784264</td>\n",
       "      <td>Control</td>\n",
       "    </tr>\n",
       "    <tr>\n",
       "      <th>3</th>\n",
       "      <td>11,0882146509904</td>\n",
       "      <td>Control</td>\n",
       "    </tr>\n",
       "    <tr>\n",
       "      <th>4</th>\n",
       "      <td>10,1472740570122</td>\n",
       "      <td>Control</td>\n",
       "    </tr>\n",
       "    <tr>\n",
       "      <th>5</th>\n",
       "      <td>9,78980767524929</td>\n",
       "      <td>Control</td>\n",
       "    </tr>\n",
       "    <tr>\n",
       "      <th>...</th>\n",
       "      <td>...</td>\n",
       "      <td>...</td>\n",
       "    </tr>\n",
       "    <tr>\n",
       "      <th>996</th>\n",
       "      <td>1000</td>\n",
       "      <td>Treatment</td>\n",
       "    </tr>\n",
       "    <tr>\n",
       "      <th>997</th>\n",
       "      <td>1200</td>\n",
       "      <td>Treatment</td>\n",
       "    </tr>\n",
       "    <tr>\n",
       "      <th>998</th>\n",
       "      <td>1500</td>\n",
       "      <td>Treatment</td>\n",
       "    </tr>\n",
       "    <tr>\n",
       "      <th>999</th>\n",
       "      <td>2000</td>\n",
       "      <td>Treatment</td>\n",
       "    </tr>\n",
       "    <tr>\n",
       "      <th>1000</th>\n",
       "      <td>3000</td>\n",
       "      <td>Treatment</td>\n",
       "    </tr>\n",
       "  </tbody>\n",
       "</table>\n",
       "<p>1000 rows × 2 columns</p>\n",
       "</div>"
      ],
      "text/plain": [
       "                 value experimentVariant\n",
       "1     10,3804953740268           Control\n",
       "2     9,54686666784264           Control\n",
       "3     11,0882146509904           Control\n",
       "4     10,1472740570122           Control\n",
       "5     9,78980767524929           Control\n",
       "...                ...               ...\n",
       "996               1000         Treatment\n",
       "997               1200         Treatment\n",
       "998               1500         Treatment\n",
       "999               2000         Treatment\n",
       "1000              3000         Treatment\n",
       "\n",
       "[1000 rows x 2 columns]"
      ]
     },
     "execution_count": 4,
     "metadata": {},
     "output_type": "execute_result"
    }
   ],
   "source": [
    "df"
   ]
  },
  {
   "cell_type": "code",
   "execution_count": 5,
   "id": "convenient-amazon",
   "metadata": {},
   "outputs": [
    {
     "data": {
      "text/plain": [
       "value                object\n",
       "experimentVariant    object\n",
       "dtype: object"
      ]
     },
     "execution_count": 5,
     "metadata": {},
     "output_type": "execute_result"
    }
   ],
   "source": [
    "df.dtypes"
   ]
  },
  {
   "cell_type": "code",
   "execution_count": 5,
   "id": "institutional-boundary",
   "metadata": {},
   "outputs": [],
   "source": [
    "# меняем тип данных в столбце \"value\", а также меняем запятую на точку. \n",
    "df['value'] = df['value'].str.replace(',', '.').astype(float) "
   ]
  },
  {
   "cell_type": "code",
   "execution_count": 6,
   "id": "caroline-evanescence",
   "metadata": {},
   "outputs": [
    {
     "data": {
      "text/plain": [
       "value                0\n",
       "experimentVariant    0\n",
       "dtype: int64"
      ]
     },
     "execution_count": 6,
     "metadata": {},
     "output_type": "execute_result"
    }
   ],
   "source": [
    "df.isna().sum()"
   ]
  },
  {
   "cell_type": "code",
   "execution_count": 14,
   "id": "optimum-reproduction",
   "metadata": {},
   "outputs": [
    {
     "data": {
      "text/plain": [
       "500"
      ]
     },
     "execution_count": 14,
     "metadata": {},
     "output_type": "execute_result"
    }
   ],
   "source": [
    "df[df['experimentVariant'] == 'Control'].shape[0]"
   ]
  },
  {
   "cell_type": "code",
   "execution_count": 15,
   "id": "analyzed-pittsburgh",
   "metadata": {},
   "outputs": [
    {
     "data": {
      "text/plain": [
       "500"
      ]
     },
     "execution_count": 15,
     "metadata": {},
     "output_type": "execute_result"
    }
   ],
   "source": [
    "df[df['experimentVariant'] == 'Treatment'].shape[0]"
   ]
  },
  {
   "cell_type": "code",
   "execution_count": 9,
   "id": "limiting-theory",
   "metadata": {},
   "outputs": [],
   "source": [
    "# function for mean \n",
    "def bootstrap_mean(\n",
    "    data_column_1, \n",
    "    data_column_2, \n",
    "    boot_it = 1000, \n",
    "    statistic = np.mean, \n",
    "    conf_level = 0.95):\n",
    "    boot_len = max([len(data_column_1), len(data_column_2)])\n",
    "    boot_data = []\n",
    "    \n",
    "    for i in tqdm(range(boot_it)): # извлекаем подвыборки\n",
    "        sample_1 = data_column_1.sample(boot_len, replace=True).values\n",
    "        sample_2 = data_column_2.sample(boot_len, replace=True).values\n",
    "        boot_data.append(statistic(sample_1 - sample_2))\n",
    "    \n",
    "    pd_boot_data = pd.DataFrame(boot_data) \n",
    "    \n",
    "    # считаем доверительные интервалы\n",
    "    left_quantile = (1 - conf_level) / 2\n",
    "    right_quantile = 1 - (1 - conf_level) / 2\n",
    "    ci = pd_boot_data.quantile([left_quantile, right_quantile])\n",
    "    \n",
    "    # считаем p-value\n",
    "    p_1 = stats.norm.cdf(x = 0, loc = np.mean(boot_data), scale = np.std(boot_data))\n",
    "    p_2 = stats.norm.cdf(x = 0, loc = - np.mean(boot_data), scale = np.std(boot_data))\n",
    "    \n",
    "    p_value = min(p_1, p_2) * 2\n",
    "                \n",
    "    return{'p_value' : p_value,\n",
    "          'ci' : ci} "
   ]
  },
  {
   "cell_type": "code",
   "execution_count": 10,
   "id": "minimal-wrapping",
   "metadata": {},
   "outputs": [],
   "source": [
    "# извлекаем необходимые наблюдения из исходного датафрейма\n",
    "control = df[df['experimentVariant'] == 'Control'].value"
   ]
  },
  {
   "cell_type": "code",
   "execution_count": 11,
   "id": "joint-center",
   "metadata": {},
   "outputs": [],
   "source": [
    "# извлекаем необходимые наблюдения из исходного датафрейма\n",
    "test = df[df['experimentVariant'] == 'Treatment'].value"
   ]
  },
  {
   "cell_type": "code",
   "execution_count": 12,
   "id": "severe-finger",
   "metadata": {},
   "outputs": [
    {
     "name": "stderr",
     "output_type": "stream",
     "text": [
      "100%|██████████| 1000/1000 [00:00<00:00, 4049.33it/s]\n"
     ]
    },
    {
     "data": {
      "text/plain": [
       "{'p_value': 0.03327066570052403,\n",
       " 'ci':                0\n",
       " 0.025 -34.880654\n",
       " 0.975  -2.918305}"
      ]
     },
     "execution_count": 12,
     "metadata": {},
     "output_type": "execute_result"
    }
   ],
   "source": [
    "# используем bootstrap, который показал нам, что при многократном повторении эксперимента и при истинности нулевой гипотезы\n",
    "# (среднее в выборках не отличаются другу от друга), вероятность получить такие или более ярковыраженные различия составляет < 0.05,\n",
    "# что позволяет нам отклонить нулевую гипотезу о равенстве средних. \n",
    "bootstrap_mean(control, test)"
   ]
  },
  {
   "cell_type": "code",
   "execution_count": 13,
   "id": "exciting-section",
   "metadata": {},
   "outputs": [],
   "source": [
    "# function for median \n",
    "def bootstrap_median(\n",
    "    data_column_1, \n",
    "    data_column_2, \n",
    "    boot_it = 1000, \n",
    "    statistic = np.median, #в качестве описательной статистики используем median \n",
    "    conf_level = 0.95):\n",
    "    boot_len = max([len(data_column_1), len(data_column_2)])\n",
    "    boot_data = []\n",
    "    \n",
    "    for i in tqdm(range(boot_it)):\n",
    "        sample_1 = data_column_1.sample(boot_len, replace=True).values\n",
    "        sample_2 = data_column_2.sample(boot_len, replace=True).values\n",
    "        boot_data.append(statistic(sample_1 - sample_2))\n",
    "    \n",
    "    pd_boot_data = pd.DataFrame(boot_data)\n",
    "    \n",
    "    \n",
    "    left_quantile = (1 - conf_level) / 2\n",
    "    right_quantile = 1 - (1 - conf_level) / 2\n",
    "    ci = pd_boot_data.quantile([left_quantile, right_quantile])\n",
    "    \n",
    "    p_1 = stats.norm.cdf(x = 0, loc = np.mean(boot_data), scale = np.std(boot_data))\n",
    "    p_2 = stats.norm.cdf(x = 0, loc = - np.mean(boot_data), scale = np.std(boot_data))\n",
    "    \n",
    "    p_value = min(p_1, p_2) * 2\n",
    "                \n",
    "    return{'p_value' : p_value,\n",
    "          'ci' : ci} "
   ]
  },
  {
   "cell_type": "code",
   "execution_count": 14,
   "id": "adjacent-utilization",
   "metadata": {},
   "outputs": [
    {
     "name": "stderr",
     "output_type": "stream",
     "text": [
      "100%|██████████| 1000/1000 [00:00<00:00, 3398.63it/s]\n"
     ]
    },
    {
     "data": {
      "text/plain": [
       "{'p_value': 0.8897931574101091,\n",
       " 'ci':               0\n",
       " 0.025 -0.155716\n",
       " 0.975  0.137313}"
      ]
     },
     "execution_count": 14,
     "metadata": {},
     "output_type": "execute_result"
    }
   ],
   "source": [
    "# если в качестве описательной статистики брать не mean, а median, \n",
    "# то полученный p-value позволяет нам принять нулевую гипотезу о равенстве средних в контрольной и тестовой группах. \n",
    "bootstrap_median(control, test)"
   ]
  },
  {
   "cell_type": "code",
   "execution_count": 15,
   "id": "wooden-comfort",
   "metadata": {},
   "outputs": [
    {
     "data": {
      "text/plain": [
       "MannwhitneyuResult(statistic=124189.5, pvalue=0.42960742912427896)"
      ]
     },
     "execution_count": 15,
     "metadata": {},
     "output_type": "execute_result"
    }
   ],
   "source": [
    "# используем U тест Манна-Уитни о равенстве средних. Полученный p-value, который оказался больше > 0.05, \n",
    "# позволяет нам принять нулевую гипотезу о равенстве средних в контрольной и тестовой группах. \n",
    "stats.mannwhitneyu(control, test)"
   ]
  }
 ],
 "metadata": {
  "kernelspec": {
   "display_name": "Python 3",
   "language": "python",
   "name": "python3"
  },
  "language_info": {
   "codemirror_mode": {
    "name": "ipython",
    "version": 3
   },
   "file_extension": ".py",
   "mimetype": "text/x-python",
   "name": "python",
   "nbconvert_exporter": "python",
   "pygments_lexer": "ipython3",
   "version": "3.9.2"
  }
 },
 "nbformat": 4,
 "nbformat_minor": 5
}
