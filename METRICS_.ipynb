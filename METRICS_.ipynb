{
 "cells": [
  {
   "cell_type": "code",
   "execution_count": 75,
   "id": "third-working",
   "metadata": {},
   "outputs": [],
   "source": [
    "import pandas as pd\n",
    "import numpy as np"
   ]
  },
  {
   "cell_type": "code",
   "execution_count": 78,
   "id": "arabic-journey",
   "metadata": {},
   "outputs": [],
   "source": [
    "df = pd.read_csv('https://stepik.org/media/attachments/lesson/423116/august_data.csv')"
   ]
  },
  {
   "cell_type": "code",
   "execution_count": 79,
   "id": "middle-letter",
   "metadata": {},
   "outputs": [
    {
     "data": {
      "text/html": [
       "<div>\n",
       "<style scoped>\n",
       "    .dataframe tbody tr th:only-of-type {\n",
       "        vertical-align: middle;\n",
       "    }\n",
       "\n",
       "    .dataframe tbody tr th {\n",
       "        vertical-align: top;\n",
       "    }\n",
       "\n",
       "    .dataframe thead th {\n",
       "        text-align: right;\n",
       "    }\n",
       "</style>\n",
       "<table border=\"1\" class=\"dataframe\">\n",
       "  <thead>\n",
       "    <tr style=\"text-align: right;\">\n",
       "      <th></th>\n",
       "      <th>ga:date</th>\n",
       "      <th>ga:clientid</th>\n",
       "      <th>userID</th>\n",
       "      <th>ga:transaction_id</th>\n",
       "      <th>ga:revenue</th>\n",
       "      <th>Unnamed: 5</th>\n",
       "      <th>ga:user</th>\n",
       "    </tr>\n",
       "  </thead>\n",
       "  <tbody>\n",
       "    <tr>\n",
       "      <th>0</th>\n",
       "      <td>28-08-2019 12:29:24</td>\n",
       "      <td>2.802509e+08</td>\n",
       "      <td>7,186,054</td>\n",
       "      <td>383919</td>\n",
       "      <td>28103</td>\n",
       "      <td>NaN</td>\n",
       "      <td>141000.0</td>\n",
       "    </tr>\n",
       "    <tr>\n",
       "      <th>1</th>\n",
       "      <td>28-08-2019 12:27:12</td>\n",
       "      <td>8.196637e+08</td>\n",
       "      <td>7,186,010</td>\n",
       "      <td>97225</td>\n",
       "      <td>177697</td>\n",
       "      <td>NaN</td>\n",
       "      <td>NaN</td>\n",
       "    </tr>\n",
       "    <tr>\n",
       "      <th>2</th>\n",
       "      <td>28-08-2019 11:43:24</td>\n",
       "      <td>1.751156e+09</td>\n",
       "      <td>7,184,859</td>\n",
       "      <td>385087</td>\n",
       "      <td>64892</td>\n",
       "      <td>NaN</td>\n",
       "      <td>NaN</td>\n",
       "    </tr>\n",
       "    <tr>\n",
       "      <th>3</th>\n",
       "      <td>28-08-2019 11:40:50</td>\n",
       "      <td>5.515333e+08</td>\n",
       "      <td>7,186,029</td>\n",
       "      <td>385392</td>\n",
       "      <td>38816</td>\n",
       "      <td>NaN</td>\n",
       "      <td>NaN</td>\n",
       "    </tr>\n",
       "    <tr>\n",
       "      <th>4</th>\n",
       "      <td>28-08-2019 11:25:31</td>\n",
       "      <td>4.527935e+08</td>\n",
       "      <td>7,183,548</td>\n",
       "      <td>385871</td>\n",
       "      <td>3112</td>\n",
       "      <td>NaN</td>\n",
       "      <td>NaN</td>\n",
       "    </tr>\n",
       "  </tbody>\n",
       "</table>\n",
       "</div>"
      ],
      "text/plain": [
       "               ga:date   ga:clientid     userID ga:transaction_id  ga:revenue  \\\n",
       "0  28-08-2019 12:29:24  2.802509e+08  7,186,054            383919       28103   \n",
       "1  28-08-2019 12:27:12  8.196637e+08  7,186,010             97225      177697   \n",
       "2  28-08-2019 11:43:24  1.751156e+09  7,184,859            385087       64892   \n",
       "3  28-08-2019 11:40:50  5.515333e+08  7,186,029            385392       38816   \n",
       "4  28-08-2019 11:25:31  4.527935e+08  7,183,548            385871        3112   \n",
       "\n",
       "   Unnamed: 5  ga:user   \n",
       "0         NaN  141000.0  \n",
       "1         NaN       NaN  \n",
       "2         NaN       NaN  \n",
       "3         NaN       NaN  \n",
       "4         NaN       NaN  "
      ]
     },
     "execution_count": 79,
     "metadata": {},
     "output_type": "execute_result"
    }
   ],
   "source": [
    "df.head()"
   ]
  },
  {
   "cell_type": "code",
   "execution_count": 80,
   "id": "assisted-rotation",
   "metadata": {},
   "outputs": [
    {
     "data": {
      "text/plain": [
       "(1011, 7)"
      ]
     },
     "execution_count": 80,
     "metadata": {},
     "output_type": "execute_result"
    }
   ],
   "source": [
    "df.shape"
   ]
  },
  {
   "cell_type": "code",
   "execution_count": 81,
   "id": "casual-visiting",
   "metadata": {},
   "outputs": [
    {
     "data": {
      "text/plain": [
       "ga:date                 0\n",
       "ga:clientid             0\n",
       "userID                  0\n",
       "ga:transaction_id       0\n",
       "ga:revenue              0\n",
       "Unnamed: 5           1011\n",
       "ga:user              1010\n",
       "dtype: int64"
      ]
     },
     "execution_count": 81,
     "metadata": {},
     "output_type": "execute_result"
    }
   ],
   "source": [
    "df.isna().sum()"
   ]
  },
  {
   "cell_type": "code",
   "execution_count": 82,
   "id": "parental-clearing",
   "metadata": {},
   "outputs": [
    {
     "data": {
      "text/html": [
       "<div>\n",
       "<style scoped>\n",
       "    .dataframe tbody tr th:only-of-type {\n",
       "        vertical-align: middle;\n",
       "    }\n",
       "\n",
       "    .dataframe tbody tr th {\n",
       "        vertical-align: top;\n",
       "    }\n",
       "\n",
       "    .dataframe thead th {\n",
       "        text-align: right;\n",
       "    }\n",
       "</style>\n",
       "<table border=\"1\" class=\"dataframe\">\n",
       "  <thead>\n",
       "    <tr style=\"text-align: right;\">\n",
       "      <th></th>\n",
       "      <th>ga:date</th>\n",
       "      <th>ga:clientid</th>\n",
       "      <th>userID</th>\n",
       "      <th>ga:transaction_id</th>\n",
       "      <th>ga:revenue</th>\n",
       "      <th>Unnamed: 5</th>\n",
       "      <th>ga:user</th>\n",
       "    </tr>\n",
       "  </thead>\n",
       "  <tbody>\n",
       "    <tr>\n",
       "      <th>0</th>\n",
       "      <td>28-08-2019 12:29:24</td>\n",
       "      <td>2.802509e+08</td>\n",
       "      <td>7,186,054</td>\n",
       "      <td>383919</td>\n",
       "      <td>28103</td>\n",
       "      <td>NaN</td>\n",
       "      <td>141000.0</td>\n",
       "    </tr>\n",
       "    <tr>\n",
       "      <th>1</th>\n",
       "      <td>28-08-2019 12:27:12</td>\n",
       "      <td>8.196637e+08</td>\n",
       "      <td>7,186,010</td>\n",
       "      <td>97225</td>\n",
       "      <td>177697</td>\n",
       "      <td>NaN</td>\n",
       "      <td>NaN</td>\n",
       "    </tr>\n",
       "    <tr>\n",
       "      <th>2</th>\n",
       "      <td>28-08-2019 11:43:24</td>\n",
       "      <td>1.751156e+09</td>\n",
       "      <td>7,184,859</td>\n",
       "      <td>385087</td>\n",
       "      <td>64892</td>\n",
       "      <td>NaN</td>\n",
       "      <td>NaN</td>\n",
       "    </tr>\n",
       "    <tr>\n",
       "      <th>3</th>\n",
       "      <td>28-08-2019 11:40:50</td>\n",
       "      <td>5.515333e+08</td>\n",
       "      <td>7,186,029</td>\n",
       "      <td>385392</td>\n",
       "      <td>38816</td>\n",
       "      <td>NaN</td>\n",
       "      <td>NaN</td>\n",
       "    </tr>\n",
       "    <tr>\n",
       "      <th>4</th>\n",
       "      <td>28-08-2019 11:25:31</td>\n",
       "      <td>4.527935e+08</td>\n",
       "      <td>7,183,548</td>\n",
       "      <td>385871</td>\n",
       "      <td>3112</td>\n",
       "      <td>NaN</td>\n",
       "      <td>NaN</td>\n",
       "    </tr>\n",
       "    <tr>\n",
       "      <th>...</th>\n",
       "      <td>...</td>\n",
       "      <td>...</td>\n",
       "      <td>...</td>\n",
       "      <td>...</td>\n",
       "      <td>...</td>\n",
       "      <td>...</td>\n",
       "      <td>...</td>\n",
       "    </tr>\n",
       "    <tr>\n",
       "      <th>1006</th>\n",
       "      <td>01-08-2019 01:33:53</td>\n",
       "      <td>5.085028e+08</td>\n",
       "      <td>7186781</td>\n",
       "      <td>358692</td>\n",
       "      <td>9280</td>\n",
       "      <td>NaN</td>\n",
       "      <td>NaN</td>\n",
       "    </tr>\n",
       "    <tr>\n",
       "      <th>1007</th>\n",
       "      <td>01-08-2019 01:27:45</td>\n",
       "      <td>4.152444e+08</td>\n",
       "      <td>7186780</td>\n",
       "      <td>359792</td>\n",
       "      <td>2899</td>\n",
       "      <td>NaN</td>\n",
       "      <td>NaN</td>\n",
       "    </tr>\n",
       "    <tr>\n",
       "      <th>1008</th>\n",
       "      <td>01-08-2019 01:23:40</td>\n",
       "      <td>6.964930e+08</td>\n",
       "      <td>7186782</td>\n",
       "      <td>377751</td>\n",
       "      <td>8900</td>\n",
       "      <td>NaN</td>\n",
       "      <td>NaN</td>\n",
       "    </tr>\n",
       "    <tr>\n",
       "      <th>1009</th>\n",
       "      <td>01-08-2019 01:18:14</td>\n",
       "      <td>4.152444e+08</td>\n",
       "      <td>7186780</td>\n",
       "      <td>377721</td>\n",
       "      <td>8204</td>\n",
       "      <td>NaN</td>\n",
       "      <td>NaN</td>\n",
       "    </tr>\n",
       "    <tr>\n",
       "      <th>1010</th>\n",
       "      <td>01-08-2019 01:06:38</td>\n",
       "      <td>5.352736e+08</td>\n",
       "      <td>7014062</td>\n",
       "      <td>377748</td>\n",
       "      <td>3032</td>\n",
       "      <td>NaN</td>\n",
       "      <td>NaN</td>\n",
       "    </tr>\n",
       "  </tbody>\n",
       "</table>\n",
       "<p>1011 rows × 7 columns</p>\n",
       "</div>"
      ],
      "text/plain": [
       "                  ga:date   ga:clientid     userID ga:transaction_id  \\\n",
       "0     28-08-2019 12:29:24  2.802509e+08  7,186,054            383919   \n",
       "1     28-08-2019 12:27:12  8.196637e+08  7,186,010             97225   \n",
       "2     28-08-2019 11:43:24  1.751156e+09  7,184,859            385087   \n",
       "3     28-08-2019 11:40:50  5.515333e+08  7,186,029            385392   \n",
       "4     28-08-2019 11:25:31  4.527935e+08  7,183,548            385871   \n",
       "...                   ...           ...        ...               ...   \n",
       "1006  01-08-2019 01:33:53  5.085028e+08    7186781            358692   \n",
       "1007  01-08-2019 01:27:45  4.152444e+08    7186780            359792   \n",
       "1008  01-08-2019 01:23:40  6.964930e+08    7186782            377751   \n",
       "1009  01-08-2019 01:18:14  4.152444e+08    7186780            377721   \n",
       "1010  01-08-2019 01:06:38  5.352736e+08    7014062            377748   \n",
       "\n",
       "      ga:revenue  Unnamed: 5  ga:user   \n",
       "0          28103         NaN  141000.0  \n",
       "1         177697         NaN       NaN  \n",
       "2          64892         NaN       NaN  \n",
       "3          38816         NaN       NaN  \n",
       "4           3112         NaN       NaN  \n",
       "...          ...         ...       ...  \n",
       "1006        9280         NaN       NaN  \n",
       "1007        2899         NaN       NaN  \n",
       "1008        8900         NaN       NaN  \n",
       "1009        8204         NaN       NaN  \n",
       "1010        3032         NaN       NaN  \n",
       "\n",
       "[1011 rows x 7 columns]"
      ]
     },
     "execution_count": 82,
     "metadata": {},
     "output_type": "execute_result"
    }
   ],
   "source": [
    "df.fillna({'ga:user' : '0'})"
   ]
  },
  {
   "cell_type": "code",
   "execution_count": 84,
   "id": "hourly-hungary",
   "metadata": {},
   "outputs": [],
   "source": [
    "df = df.drop('Unnamed: 5', axis=1)"
   ]
  },
  {
   "cell_type": "code",
   "execution_count": 85,
   "id": "geographic-architecture",
   "metadata": {},
   "outputs": [
    {
     "data": {
      "text/html": [
       "<div>\n",
       "<style scoped>\n",
       "    .dataframe tbody tr th:only-of-type {\n",
       "        vertical-align: middle;\n",
       "    }\n",
       "\n",
       "    .dataframe tbody tr th {\n",
       "        vertical-align: top;\n",
       "    }\n",
       "\n",
       "    .dataframe thead th {\n",
       "        text-align: right;\n",
       "    }\n",
       "</style>\n",
       "<table border=\"1\" class=\"dataframe\">\n",
       "  <thead>\n",
       "    <tr style=\"text-align: right;\">\n",
       "      <th></th>\n",
       "      <th>ga:date</th>\n",
       "      <th>ga:clientid</th>\n",
       "      <th>userID</th>\n",
       "      <th>ga:transaction_id</th>\n",
       "      <th>ga:revenue</th>\n",
       "      <th>ga:user</th>\n",
       "    </tr>\n",
       "  </thead>\n",
       "  <tbody>\n",
       "    <tr>\n",
       "      <th>0</th>\n",
       "      <td>28-08-2019 12:29:24</td>\n",
       "      <td>2.802509e+08</td>\n",
       "      <td>7,186,054</td>\n",
       "      <td>383919</td>\n",
       "      <td>28103</td>\n",
       "      <td>141000.0</td>\n",
       "    </tr>\n",
       "    <tr>\n",
       "      <th>1</th>\n",
       "      <td>28-08-2019 12:27:12</td>\n",
       "      <td>8.196637e+08</td>\n",
       "      <td>7,186,010</td>\n",
       "      <td>97225</td>\n",
       "      <td>177697</td>\n",
       "      <td>NaN</td>\n",
       "    </tr>\n",
       "    <tr>\n",
       "      <th>2</th>\n",
       "      <td>28-08-2019 11:43:24</td>\n",
       "      <td>1.751156e+09</td>\n",
       "      <td>7,184,859</td>\n",
       "      <td>385087</td>\n",
       "      <td>64892</td>\n",
       "      <td>NaN</td>\n",
       "    </tr>\n",
       "    <tr>\n",
       "      <th>3</th>\n",
       "      <td>28-08-2019 11:40:50</td>\n",
       "      <td>5.515333e+08</td>\n",
       "      <td>7,186,029</td>\n",
       "      <td>385392</td>\n",
       "      <td>38816</td>\n",
       "      <td>NaN</td>\n",
       "    </tr>\n",
       "    <tr>\n",
       "      <th>4</th>\n",
       "      <td>28-08-2019 11:25:31</td>\n",
       "      <td>4.527935e+08</td>\n",
       "      <td>7,183,548</td>\n",
       "      <td>385871</td>\n",
       "      <td>3112</td>\n",
       "      <td>NaN</td>\n",
       "    </tr>\n",
       "  </tbody>\n",
       "</table>\n",
       "</div>"
      ],
      "text/plain": [
       "               ga:date   ga:clientid     userID ga:transaction_id  ga:revenue  \\\n",
       "0  28-08-2019 12:29:24  2.802509e+08  7,186,054            383919       28103   \n",
       "1  28-08-2019 12:27:12  8.196637e+08  7,186,010             97225      177697   \n",
       "2  28-08-2019 11:43:24  1.751156e+09  7,184,859            385087       64892   \n",
       "3  28-08-2019 11:40:50  5.515333e+08  7,186,029            385392       38816   \n",
       "4  28-08-2019 11:25:31  4.527935e+08  7,183,548            385871        3112   \n",
       "\n",
       "   ga:user   \n",
       "0  141000.0  \n",
       "1       NaN  \n",
       "2       NaN  \n",
       "3       NaN  \n",
       "4       NaN  "
      ]
     },
     "execution_count": 85,
     "metadata": {},
     "output_type": "execute_result"
    }
   ],
   "source": [
    "df.head()"
   ]
  },
  {
   "cell_type": "code",
   "execution_count": 37,
   "id": "monetary-minute",
   "metadata": {},
   "outputs": [],
   "source": [
    "#numbers of unique users \n",
    "#141000.0 "
   ]
  },
  {
   "cell_type": "code",
   "execution_count": 86,
   "id": "seeing-syracuse",
   "metadata": {},
   "outputs": [
    {
     "data": {
      "text/plain": [
       "(1011, 6)"
      ]
     },
     "execution_count": 86,
     "metadata": {},
     "output_type": "execute_result"
    }
   ],
   "source": [
    "df.shape"
   ]
  },
  {
   "cell_type": "code",
   "execution_count": 87,
   "id": "empty-broadway",
   "metadata": {},
   "outputs": [
    {
     "data": {
      "text/plain": [
       "ga:date               object\n",
       "ga:clientid          float64\n",
       "userID                object\n",
       "ga:transaction_id     object\n",
       "ga:revenue             int64\n",
       "ga:user              float64\n",
       "dtype: object"
      ]
     },
     "execution_count": 87,
     "metadata": {},
     "output_type": "execute_result"
    }
   ],
   "source": [
    "df.dtypes"
   ]
  },
  {
   "cell_type": "code",
   "execution_count": 88,
   "id": "united-oregon",
   "metadata": {},
   "outputs": [],
   "source": [
    "df['ga:date'] = pd.to_datetime(df['ga:date'])"
   ]
  },
  {
   "cell_type": "code",
   "execution_count": 89,
   "id": "instrumental-chick",
   "metadata": {},
   "outputs": [
    {
     "data": {
      "text/plain": [
       "ga:date              datetime64[ns]\n",
       "ga:clientid                 float64\n",
       "userID                       object\n",
       "ga:transaction_id            object\n",
       "ga:revenue                    int64\n",
       "ga:user                     float64\n",
       "dtype: object"
      ]
     },
     "execution_count": 89,
     "metadata": {},
     "output_type": "execute_result"
    }
   ],
   "source": [
    "df.dtypes"
   ]
  },
  {
   "cell_type": "code",
   "execution_count": 92,
   "id": "visible-barcelona",
   "metadata": {},
   "outputs": [
    {
     "data": {
      "text/html": [
       "<div>\n",
       "<style scoped>\n",
       "    .dataframe tbody tr th:only-of-type {\n",
       "        vertical-align: middle;\n",
       "    }\n",
       "\n",
       "    .dataframe tbody tr th {\n",
       "        vertical-align: top;\n",
       "    }\n",
       "\n",
       "    .dataframe thead th {\n",
       "        text-align: right;\n",
       "    }\n",
       "</style>\n",
       "<table border=\"1\" class=\"dataframe\">\n",
       "  <thead>\n",
       "    <tr style=\"text-align: right;\">\n",
       "      <th></th>\n",
       "      <th>ga:date</th>\n",
       "      <th>ga:clientid</th>\n",
       "      <th>userID</th>\n",
       "      <th>ga:transaction_id</th>\n",
       "      <th>ga:revenue</th>\n",
       "      <th>ga:user</th>\n",
       "    </tr>\n",
       "  </thead>\n",
       "  <tbody>\n",
       "    <tr>\n",
       "      <th>0</th>\n",
       "      <td>2019-08-28 12:29:24</td>\n",
       "      <td>2.802509e+08</td>\n",
       "      <td>7,186,054</td>\n",
       "      <td>383919</td>\n",
       "      <td>28103</td>\n",
       "      <td>141000.0</td>\n",
       "    </tr>\n",
       "    <tr>\n",
       "      <th>1</th>\n",
       "      <td>2019-08-28 12:27:12</td>\n",
       "      <td>8.196637e+08</td>\n",
       "      <td>7,186,010</td>\n",
       "      <td>97225</td>\n",
       "      <td>177697</td>\n",
       "      <td>NaN</td>\n",
       "    </tr>\n",
       "    <tr>\n",
       "      <th>2</th>\n",
       "      <td>2019-08-28 11:43:24</td>\n",
       "      <td>1.751156e+09</td>\n",
       "      <td>7,184,859</td>\n",
       "      <td>385087</td>\n",
       "      <td>64892</td>\n",
       "      <td>NaN</td>\n",
       "    </tr>\n",
       "    <tr>\n",
       "      <th>3</th>\n",
       "      <td>2019-08-28 11:40:50</td>\n",
       "      <td>5.515333e+08</td>\n",
       "      <td>7,186,029</td>\n",
       "      <td>385392</td>\n",
       "      <td>38816</td>\n",
       "      <td>NaN</td>\n",
       "    </tr>\n",
       "    <tr>\n",
       "      <th>4</th>\n",
       "      <td>2019-08-28 11:25:31</td>\n",
       "      <td>4.527935e+08</td>\n",
       "      <td>7,183,548</td>\n",
       "      <td>385871</td>\n",
       "      <td>3112</td>\n",
       "      <td>NaN</td>\n",
       "    </tr>\n",
       "  </tbody>\n",
       "</table>\n",
       "</div>"
      ],
      "text/plain": [
       "              ga:date   ga:clientid     userID ga:transaction_id  ga:revenue  \\\n",
       "0 2019-08-28 12:29:24  2.802509e+08  7,186,054            383919       28103   \n",
       "1 2019-08-28 12:27:12  8.196637e+08  7,186,010             97225      177697   \n",
       "2 2019-08-28 11:43:24  1.751156e+09  7,184,859            385087       64892   \n",
       "3 2019-08-28 11:40:50  5.515333e+08  7,186,029            385392       38816   \n",
       "4 2019-08-28 11:25:31  4.527935e+08  7,183,548            385871        3112   \n",
       "\n",
       "   ga:user   \n",
       "0  141000.0  \n",
       "1       NaN  \n",
       "2       NaN  \n",
       "3       NaN  \n",
       "4       NaN  "
      ]
     },
     "execution_count": 92,
     "metadata": {},
     "output_type": "execute_result"
    }
   ],
   "source": [
    "df.head()"
   ]
  },
  {
   "cell_type": "code",
   "execution_count": 93,
   "id": "preceding-tutorial",
   "metadata": {},
   "outputs": [],
   "source": [
    "df.rename({'ga:clientid' : 'client_id', \n",
    "                    'ga:date' : 'date', \n",
    "                    'ga:transaction_id' : 'transaction_id', \n",
    "                    'ga:revenue' : 'revenue', \n",
    "                    'ga:user' : 'user'}, axis=1,  inplace=True)"
   ]
  },
  {
   "cell_type": "code",
   "execution_count": 94,
   "id": "beneficial-ethernet",
   "metadata": {},
   "outputs": [],
   "source": [
    "df.rename({'ga:user' : 'count_uniq_users'}, axis=1, inplace=True)"
   ]
  },
  {
   "cell_type": "code",
   "execution_count": 95,
   "id": "opened-hospital",
   "metadata": {},
   "outputs": [],
   "source": [
    "df.userID = df.userID.str.replace(',', '.')"
   ]
  },
  {
   "cell_type": "code",
   "execution_count": 96,
   "id": "documentary-forest",
   "metadata": {},
   "outputs": [
    {
     "data": {
      "text/html": [
       "<div>\n",
       "<style scoped>\n",
       "    .dataframe tbody tr th:only-of-type {\n",
       "        vertical-align: middle;\n",
       "    }\n",
       "\n",
       "    .dataframe tbody tr th {\n",
       "        vertical-align: top;\n",
       "    }\n",
       "\n",
       "    .dataframe thead th {\n",
       "        text-align: right;\n",
       "    }\n",
       "</style>\n",
       "<table border=\"1\" class=\"dataframe\">\n",
       "  <thead>\n",
       "    <tr style=\"text-align: right;\">\n",
       "      <th></th>\n",
       "      <th>date</th>\n",
       "      <th>client_id</th>\n",
       "      <th>userID</th>\n",
       "      <th>transaction_id</th>\n",
       "      <th>revenue</th>\n",
       "      <th>ga:user</th>\n",
       "    </tr>\n",
       "  </thead>\n",
       "  <tbody>\n",
       "    <tr>\n",
       "      <th>0</th>\n",
       "      <td>2019-08-28 12:29:24</td>\n",
       "      <td>2.802509e+08</td>\n",
       "      <td>7.186.054</td>\n",
       "      <td>383919</td>\n",
       "      <td>28103</td>\n",
       "      <td>141000.0</td>\n",
       "    </tr>\n",
       "    <tr>\n",
       "      <th>1</th>\n",
       "      <td>2019-08-28 12:27:12</td>\n",
       "      <td>8.196637e+08</td>\n",
       "      <td>7.186.010</td>\n",
       "      <td>97225</td>\n",
       "      <td>177697</td>\n",
       "      <td>NaN</td>\n",
       "    </tr>\n",
       "    <tr>\n",
       "      <th>2</th>\n",
       "      <td>2019-08-28 11:43:24</td>\n",
       "      <td>1.751156e+09</td>\n",
       "      <td>7.184.859</td>\n",
       "      <td>385087</td>\n",
       "      <td>64892</td>\n",
       "      <td>NaN</td>\n",
       "    </tr>\n",
       "    <tr>\n",
       "      <th>3</th>\n",
       "      <td>2019-08-28 11:40:50</td>\n",
       "      <td>5.515333e+08</td>\n",
       "      <td>7.186.029</td>\n",
       "      <td>385392</td>\n",
       "      <td>38816</td>\n",
       "      <td>NaN</td>\n",
       "    </tr>\n",
       "    <tr>\n",
       "      <th>4</th>\n",
       "      <td>2019-08-28 11:25:31</td>\n",
       "      <td>4.527935e+08</td>\n",
       "      <td>7.183.548</td>\n",
       "      <td>385871</td>\n",
       "      <td>3112</td>\n",
       "      <td>NaN</td>\n",
       "    </tr>\n",
       "  </tbody>\n",
       "</table>\n",
       "</div>"
      ],
      "text/plain": [
       "                 date     client_id     userID transaction_id  revenue  \\\n",
       "0 2019-08-28 12:29:24  2.802509e+08  7.186.054         383919    28103   \n",
       "1 2019-08-28 12:27:12  8.196637e+08  7.186.010          97225   177697   \n",
       "2 2019-08-28 11:43:24  1.751156e+09  7.184.859         385087    64892   \n",
       "3 2019-08-28 11:40:50  5.515333e+08  7.186.029         385392    38816   \n",
       "4 2019-08-28 11:25:31  4.527935e+08  7.183.548         385871     3112   \n",
       "\n",
       "   ga:user   \n",
       "0  141000.0  \n",
       "1       NaN  \n",
       "2       NaN  \n",
       "3       NaN  \n",
       "4       NaN  "
      ]
     },
     "execution_count": 96,
     "metadata": {},
     "output_type": "execute_result"
    }
   ],
   "source": [
    "df.head()"
   ]
  },
  {
   "cell_type": "code",
   "execution_count": 19,
   "id": "domestic-mobility",
   "metadata": {},
   "outputs": [
    {
     "data": {
      "text/plain": [
       "(1011, 6)"
      ]
     },
     "execution_count": 19,
     "metadata": {},
     "output_type": "execute_result"
    }
   ],
   "source": [
    "df.shape"
   ]
  },
  {
   "cell_type": "code",
   "execution_count": 98,
   "id": "human-mainland",
   "metadata": {},
   "outputs": [
    {
     "data": {
      "text/plain": [
       "685"
      ]
     },
     "execution_count": 98,
     "metadata": {},
     "output_type": "execute_result"
    }
   ],
   "source": [
    "# the answer -- numbers of clients, not users\n",
    "uniq_clients = df.query('revenue > 0').client_id.nunique()\n",
    "uniq_clients\n"
   ]
  },
  {
   "cell_type": "code",
   "execution_count": 99,
   "id": "received-evanescence",
   "metadata": {},
   "outputs": [
    {
     "data": {
      "text/plain": [
       "0.004858156028368794"
      ]
     },
     "execution_count": 99,
     "metadata": {},
     "output_type": "execute_result"
    }
   ],
   "source": [
    "# conversation rate\n",
    "CR = df.query('revenue > 0').client_id.nunique() / 141000 \n",
    "CR\n",
    "#np.round((df.query('revenue > 0').client_id.nunique() / 141000) * 100, 2) число клиентов / число пользователей"
   ]
  },
  {
   "cell_type": "code",
   "execution_count": 100,
   "id": "focused-worker",
   "metadata": {},
   "outputs": [
    {
     "data": {
      "text/plain": [
       "34458.12660944206"
      ]
     },
     "execution_count": 100,
     "metadata": {},
     "output_type": "execute_result"
    }
   ],
   "source": [
    "AC = df.query('revenue > 0').revenue.sum() / df.query('revenue > 0').revenue.count()\n",
    "AC\n",
    "# np.round(df.query('revenue > 0').revenue.sum() / df.query('revenue > 0').revenue.count(), 0) # average check"
   ]
  },
  {
   "cell_type": "code",
   "execution_count": 25,
   "id": "asian-language",
   "metadata": {},
   "outputs": [
    {
     "data": {
      "text/plain": [
       "(79, 6)"
      ]
     },
     "execution_count": 25,
     "metadata": {},
     "output_type": "execute_result"
    }
   ],
   "source": [
    "df.query('revenue == 0').shape # data frame where revenue == 0 "
   ]
  },
  {
   "cell_type": "code",
   "execution_count": 101,
   "id": "prospective-firewall",
   "metadata": {},
   "outputs": [
    {
     "data": {
      "text/plain": [
       "1.3605839416058394"
      ]
     },
     "execution_count": 101,
     "metadata": {},
     "output_type": "execute_result"
    }
   ],
   "source": [
    "RPR = df.query('revenue > 0').revenue.count() /df.query('revenue > 0').client_id.nunique()\n",
    "RPR\n",
    "# np.round(df.query('revenue > 0').revenue.count() /df.query('revenue > 0').client_id.nunique(), 2) # Repeat Purchase Rate"
   ]
  },
  {
   "cell_type": "code",
   "execution_count": 103,
   "id": "powered-stationery",
   "metadata": {},
   "outputs": [
    {
     "data": {
      "text/plain": [
       "46883.17372262773"
      ]
     },
     "execution_count": 103,
     "metadata": {},
     "output_type": "execute_result"
    }
   ],
   "source": [
    "# ARPPU \n",
    "#np.round(df.query('revenue > 0').revenue.count() /df.query('revenue > 0').client_id.nunique() * df.query('revenue > 0').revenue.sum() / df.query('revenue > 0').revenue.count(), 0)\n",
    "ARPPU = RPR * AC\n",
    "ARPPU"
   ]
  },
  {
   "cell_type": "code",
   "execution_count": 105,
   "id": "dominant-costume",
   "metadata": {},
   "outputs": [
    {
     "data": {
      "text/plain": [
       "227.76577304964536"
      ]
     },
     "execution_count": 105,
     "metadata": {},
     "output_type": "execute_result"
    }
   ],
   "source": [
    "# ARPU \n",
    "ARPU = ARPPU * CR\n",
    "ARPU\n",
    "# np.round((df.query('revenue > 0').client_id.nunique() / 141000) * arppu, 0)"
   ]
  }
 ],
 "metadata": {
  "kernelspec": {
   "display_name": "Python 3",
   "language": "python",
   "name": "python3"
  },
  "language_info": {
   "codemirror_mode": {
    "name": "ipython",
    "version": 3
   },
   "file_extension": ".py",
   "mimetype": "text/x-python",
   "name": "python",
   "nbconvert_exporter": "python",
   "pygments_lexer": "ipython3",
   "version": "3.9.2"
  }
 },
 "nbformat": 4,
 "nbformat_minor": 5
}
