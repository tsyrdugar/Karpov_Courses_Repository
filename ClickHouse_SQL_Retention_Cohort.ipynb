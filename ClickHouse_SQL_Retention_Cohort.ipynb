{
 "cells": [
  {
   "cell_type": "code",
   "execution_count": 1,
   "id": "explicit-swedish",
   "metadata": {},
   "outputs": [],
   "source": [
    "import pandas as pd\n",
    "import pandahouse as ph"
   ]
  },
  {
   "cell_type": "code",
   "execution_count": 2,
   "id": "endangered-pennsylvania",
   "metadata": {},
   "outputs": [],
   "source": [
    "connection = dict(database='default',\n",
    "                  host='http://clickhouse.beslan.pro:8080',\n",
    "                  user='student',\n",
    "                  password='dpo_python_2020')"
   ]
  },
  {
   "cell_type": "code",
   "execution_count": 3,
   "id": "arranged-kitchen",
   "metadata": {},
   "outputs": [],
   "source": [
    "query = '''\n",
    "SELECT \n",
    "    cohort, \n",
    "    day_distance, \n",
    "    uniqExact(DeviceID) as devices\n",
    "FROM\n",
    "    (\n",
    "    SELECT \n",
    "        l.AppPlatform as AppPlatform, \n",
    "        l.events as events, \n",
    "        CAST(l.EventDate as Date) as EventDate, \n",
    "        l.DeviceID as DeviceID, \n",
    "        r.birthday as birthday, \n",
    "        CAST(l.EventDate as Date)  - r.birthday as day_distance\n",
    "    FROM events as l\n",
    "    LEFT JOIN\n",
    "        (\n",
    "        SELECT \n",
    "            DeviceID, \n",
    "            MIN(CAST(EventDate as Date)) as birthday\n",
    "        FROM events \n",
    "        WHERE AppPlatform == 'iOS'\n",
    "        GROUP BY DeviceID\n",
    "        ) as r\n",
    "            ON l.DeviceID = r.DeviceID\n",
    "    WHERE AppPlatform == 'iOS'\n",
    "    )\n",
    "WHERE day_distance <= 30\n",
    "GROUP BY \n",
    "    birthday as cohort, \n",
    "    day_distance\n",
    "ORDER BY\n",
    "    cohort ASC, \n",
    "    day_distance ASC \n",
    "'''"
   ]
  },
  {
   "cell_type": "code",
   "execution_count": 5,
   "id": "featured-essence",
   "metadata": {},
   "outputs": [],
   "source": [
    "retention = ph.read_clickhouse(query=query, connection=connection)"
   ]
  },
  {
   "cell_type": "code",
   "execution_count": 8,
   "id": "hybrid-orbit",
   "metadata": {},
   "outputs": [
    {
     "data": {
      "text/html": [
       "<div>\n",
       "<style scoped>\n",
       "    .dataframe tbody tr th:only-of-type {\n",
       "        vertical-align: middle;\n",
       "    }\n",
       "\n",
       "    .dataframe tbody tr th {\n",
       "        vertical-align: top;\n",
       "    }\n",
       "\n",
       "    .dataframe thead th {\n",
       "        text-align: right;\n",
       "    }\n",
       "</style>\n",
       "<table border=\"1\" class=\"dataframe\">\n",
       "  <thead>\n",
       "    <tr style=\"text-align: right;\">\n",
       "      <th></th>\n",
       "      <th>cohort</th>\n",
       "      <th>day_distance</th>\n",
       "      <th>devices</th>\n",
       "    </tr>\n",
       "  </thead>\n",
       "  <tbody>\n",
       "    <tr>\n",
       "      <th>0</th>\n",
       "      <td>2019-01-01</td>\n",
       "      <td>0</td>\n",
       "      <td>191013</td>\n",
       "    </tr>\n",
       "    <tr>\n",
       "      <th>1</th>\n",
       "      <td>2019-01-01</td>\n",
       "      <td>1</td>\n",
       "      <td>71636</td>\n",
       "    </tr>\n",
       "    <tr>\n",
       "      <th>2</th>\n",
       "      <td>2019-01-01</td>\n",
       "      <td>2</td>\n",
       "      <td>69761</td>\n",
       "    </tr>\n",
       "    <tr>\n",
       "      <th>3</th>\n",
       "      <td>2019-01-01</td>\n",
       "      <td>3</td>\n",
       "      <td>65577</td>\n",
       "    </tr>\n",
       "    <tr>\n",
       "      <th>4</th>\n",
       "      <td>2019-01-01</td>\n",
       "      <td>4</td>\n",
       "      <td>63249</td>\n",
       "    </tr>\n",
       "  </tbody>\n",
       "</table>\n",
       "</div>"
      ],
      "text/plain": [
       "      cohort  day_distance  devices\n",
       "0 2019-01-01             0   191013\n",
       "1 2019-01-01             1    71636\n",
       "2 2019-01-01             2    69761\n",
       "3 2019-01-01             3    65577\n",
       "4 2019-01-01             4    63249"
      ]
     },
     "execution_count": 8,
     "metadata": {},
     "output_type": "execute_result"
    }
   ],
   "source": [
    "retention.head()"
   ]
  }
 ],
 "metadata": {
  "kernelspec": {
   "display_name": "Python 3",
   "language": "python",
   "name": "python3"
  },
  "language_info": {
   "codemirror_mode": {
    "name": "ipython",
    "version": 3
   },
   "file_extension": ".py",
   "mimetype": "text/x-python",
   "name": "python",
   "nbconvert_exporter": "python",
   "pygments_lexer": "ipython3",
   "version": "3.9.2"
  }
 },
 "nbformat": 4,
 "nbformat_minor": 5
}
